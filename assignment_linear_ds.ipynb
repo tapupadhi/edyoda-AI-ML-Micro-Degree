{
 "cells": [
  {
   "cell_type": "markdown",
   "id": "974517b9",
   "metadata": {},
   "source": [
    "# Problem for Assignment-1: Linear Data Structures"
   ]
  },
  {
   "cell_type": "markdown",
   "id": "d685032e",
   "metadata": {},
   "source": [
    "Array:"
   ]
  },
  {
   "cell_type": "code",
   "execution_count": 97,
   "id": "377c75e3",
   "metadata": {},
   "outputs": [],
   "source": [
    "class Array:\n",
    "    def __init__(self, length):\n",
    "        self.array = []\n",
    "        self.max_length = length\n",
    "        self.size = 0\n",
    "\n",
    "    def add_element(self, data):\n",
    "        if self.is_full():\n",
    "            # print(\"Array is full\")\n",
    "            return False\n",
    "        else:\n",
    "            if self.size == 0:\n",
    "                self.array.append(data)\n",
    "                self.size += 1\n",
    "                return True\n",
    "            else:\n",
    "                if isinstance(data, type(self.array[0])):\n",
    "                    self.array.append(data)\n",
    "                    self.size += 1\n",
    "                    return True\n",
    "                else:\n",
    "                    # print(\"Data type is not matching\")\n",
    "                    return False\n",
    "\n",
    "    def get_array(self):\n",
    "        return self.array\n",
    "\n",
    "    def is_full(self):\n",
    "        if self.size == self.max_length:\n",
    "            return True\n",
    "        return False\n",
    "\n",
    "    def remove_element(self, value):\n",
    "        if self.size > 0:\n",
    "            self.array.remove(value)\n",
    "            self.size -= 1\n",
    "#             print(\"Element removed successfully.\")\n",
    "            return True\n",
    "        print(\"Array is empty.\")\n",
    "        return False\n",
    "\n",
    "    def remove_by_index(self, index):\n",
    "        if self.size > 0:\n",
    "            if index < self.size:\n",
    "                self.array.pop(index)\n",
    "                self.size -= 1\n",
    "                return True\n",
    "            else:\n",
    "                # print(\"Index out of range.\")\n",
    "                return False\n",
    "        else:\n",
    "            print(\"Empty,,, No elements to remove!!!\")\n",
    "            return False\n",
    "\n",
    "    def display(self):\n",
    "        print(self.array)\n",
    "\n",
    "    def find_element(self, element):\n",
    "        if element in self.array:\n",
    "#             print(\"Element found.\")\n",
    "            return (True, self.array.index(element))\n",
    "#         print(\"Element not found.\")\n",
    "        return False\n",
    "\n",
    "    def update_element(self, index, element):\n",
    "        if self.size - 1 < index:\n",
    "            print(\"Index out of range.\")\n",
    "            return False\n",
    "        self.array[index] = element\n",
    "#         print(\"Update successfully.\")\n",
    "        return True"
   ]
  },
  {
   "cell_type": "code",
   "execution_count": 98,
   "id": "51cba238",
   "metadata": {},
   "outputs": [],
   "source": [
    "class Stack:\n",
    "    def __init__(self, length):\n",
    "        self.stack = Array(length)\n",
    "\n",
    "    def push(self, element):\n",
    "        return self.stack.add_element(element)\n",
    "\n",
    "    def pop(self):\n",
    "        return self.stack.remove_by_index(self.stack.size - 1)\n",
    "\n",
    "    def display_stack(self):\n",
    "        self.stack.display()\n",
    "    \n",
    "    def get_stack(self):\n",
    "        return self.stack.get_array()\n",
    "\n",
    "    def is_empty(self):\n",
    "        if self.stack.size == 0:\n",
    "            return True\n",
    "        return False\n",
    "\n",
    "    def is_full(self):\n",
    "        self.stack.is_full()\n",
    "\n",
    "    def peek(self):\n",
    "        stack = self.stack.get_array()\n",
    "        if self.is_empty():\n",
    "            print(\"Stack is empty.\")\n",
    "        else:\n",
    "            return stack[-1]\n",
    "\n",
    "    def delete(self):\n",
    "        if self.is_empty():\n",
    "            print(\"Stack is empty.\")\n",
    "        else:\n",
    "            while not self.is_empty():\n",
    "                self.pop()\n",
    "            print(\"Stack is empty now.\")"
   ]
  },
  {
   "cell_type": "markdown",
   "id": "2336561b",
   "metadata": {},
   "source": [
    "#### Create your Array"
   ]
  },
  {
   "cell_type": "code",
   "execution_count": 99,
   "id": "c28bb56d",
   "metadata": {},
   "outputs": [
    {
     "name": "stdout",
     "output_type": "stream",
     "text": [
      "Enter the length of the Array: 5\n",
      "Enter integer element: 1\n",
      "Enter integer element: 2\n",
      "Enter integer element: 3\n",
      "Enter integer element: 4\n",
      "Enter integer element: 5\n",
      "Your Array:  [1, 2, 3, 4, 5]\n"
     ]
    }
   ],
   "source": [
    "length = int(input(\"Enter the length of the Array: \"))\n",
    "array = Array(length)\n",
    "\n",
    "for i in range(length):\n",
    "    array.add_element(int(input(\"Enter integer element: \")))\n",
    "\n",
    "array = array.get_array()\n",
    "print(\"Your Array: \", array)"
   ]
  },
  {
   "cell_type": "markdown",
   "id": "c1fb202f",
   "metadata": {},
   "source": [
    "#### Q1. Write a program to find all pairs of an integer array whose sum is equal to a given number?"
   ]
  },
  {
   "cell_type": "code",
   "execution_count": 100,
   "id": "346a38b1",
   "metadata": {},
   "outputs": [
    {
     "name": "stdout",
     "output_type": "stream",
     "text": [
      "Now enter the sum which to be matched: 6\n",
      "All pairs that matched to the entered sum:  [(1, 5), (2, 4)]\n"
     ]
    }
   ],
   "source": [
    "s = int(input(\"Now enter the sum which to be matched: \"))\n",
    "\n",
    "op_lst = []\n",
    "\n",
    "to_be_skipped = []\n",
    "for i in range(len(array)-1):\n",
    "    for j in range(i+1, len(array)):\n",
    "        if array[i] + array[j] == s and array[i] not in to_be_skipped:\n",
    "            op_lst.append((array[i], array[j]))\n",
    "            to_be_skipped.append(array[i])\n",
    "            to_be_skipped.append(array[j])\n",
    "\n",
    "if op_lst:\n",
    "    print(\"All pairs that matched to the entered sum: \", op_lst)\n",
    "else:\n",
    "    print(\"Oo ooh! No matched pair is found.\")  "
   ]
  },
  {
   "cell_type": "markdown",
   "id": "c3a179f8",
   "metadata": {},
   "source": [
    "#### Q2. Write a program to reverse an array in place? In place means you cannot create a new array. You have to update the original array."
   ]
  },
  {
   "cell_type": "code",
   "execution_count": 101,
   "id": "63ca1d4d",
   "metadata": {},
   "outputs": [
    {
     "name": "stdout",
     "output_type": "stream",
     "text": [
      "Before reverse:  [1, 2, 3, 4, 5]\n",
      "Your reverse array is:  [5, 4, 3, 2, 1]\n"
     ]
    }
   ],
   "source": [
    "print(\"Before reverse: \", array)\n",
    "for i in range(len(array)//2):\n",
    "    temp = array[i]\n",
    "    array[i] = array[len(array) -1 -i]\n",
    "    array[len(array) -1 -i] = temp\n",
    "\n",
    "print(\"Your reverse array is: \", array)"
   ]
  },
  {
   "cell_type": "markdown",
   "id": "5f81246a",
   "metadata": {},
   "source": [
    "#### Q3. Write a program to check if two strings are a rotation of each other?"
   ]
  },
  {
   "cell_type": "code",
   "execution_count": 102,
   "id": "e87c2332",
   "metadata": {},
   "outputs": [
    {
     "name": "stdout",
     "output_type": "stream",
     "text": [
      "Enter string 1: hello\n",
      "Enter string 2: llohe\n",
      "True\n"
     ]
    }
   ],
   "source": [
    "s1 = input(\"Enter string 1: \")\n",
    "s2 = input(\"Enter string 2: \")\n",
    "\n",
    "if len(s1) != len(s2):\n",
    "    print(False)\n",
    "else:\n",
    "    if s2 in s1 + s1:\n",
    "        print(True)\n",
    "    else:\n",
    "        print(False)"
   ]
  },
  {
   "cell_type": "markdown",
   "id": "b0590cbd",
   "metadata": {},
   "source": [
    "#### Q4. Write a program to print the first non-repeated character from a string?"
   ]
  },
  {
   "cell_type": "code",
   "execution_count": 103,
   "id": "73e6512e",
   "metadata": {},
   "outputs": [
    {
     "name": "stdout",
     "output_type": "stream",
     "text": [
      "Enter a String: aabccd\n",
      "The first non-repeated character from the given string is: b\n"
     ]
    }
   ],
   "source": [
    "s = input(\"Enter a String: \")\n",
    "\n",
    "arr = Array(len(s))\n",
    "temp_str = \"\"\n",
    "\n",
    "for c in s:\n",
    "    if isinstance(arr.find_element(c), tuple):\n",
    "        arr.remove_element(c)\n",
    "    else:\n",
    "        if c not in temp_str:\n",
    "            arr.add_element(c)\n",
    "            temp_str += c\n",
    "\n",
    "if arr.get_array():\n",
    "    print(\"The first non-repeated character from the given string is:\", arr.get_array()[0])\n",
    "else:\n",
    "    print(\"Sorry!!! There is no non-repeated character in the given string.\")"
   ]
  },
  {
   "cell_type": "markdown",
   "id": "ef80a5d1",
   "metadata": {},
   "source": [
    "#### Q5. Read about the Tower of Hanoi algorithm. Write a program to implement it."
   ]
  },
  {
   "cell_type": "code",
   "execution_count": 104,
   "id": "8854c3e7",
   "metadata": {},
   "outputs": [
    {
     "name": "stdout",
     "output_type": "stream",
     "text": [
      "Move disk 1 from source A to destination C\n",
      "Move disk 2 from source A to destination B\n",
      "Move disk 1 from source C to destination B\n",
      "Move disk 3 from source A to destination C\n",
      "Move disk 1 from source B to destination A\n",
      "Move disk 2 from source B to destination C\n",
      "Move disk 1 from source A to destination C\n",
      "Move disk 4 from source A to destination B\n",
      "Move disk 1 from source C to destination B\n",
      "Move disk 2 from source C to destination A\n",
      "Move disk 1 from source B to destination A\n",
      "Move disk 3 from source C to destination B\n",
      "Move disk 1 from source A to destination C\n",
      "Move disk 2 from source A to destination B\n",
      "Move disk 1 from source C to destination B\n"
     ]
    }
   ],
   "source": [
    "# Recursive Python function to solve the tower of hanoi\n",
    "\n",
    "def tower_of_hanoi(n , source, destination, auxiliary):\n",
    "    if n == 1:\n",
    "        print (\"Move disk 1 from source\", source, \"to destination\", destination)\n",
    "        return\n",
    "    tower_of_hanoi(n-1, source, auxiliary, destination)\n",
    "    print (\"Move disk\", n, \"from source\", source, \"to destination\", destination)\n",
    "    tower_of_hanoi(n-1, auxiliary, destination, source)\n",
    "\n",
    "# Driver code\n",
    "n = 4\n",
    "tower_of_hanoi(n,'A','B','C')\n",
    "# A, B, C are the name of rods"
   ]
  },
  {
   "cell_type": "markdown",
   "id": "e256be84",
   "metadata": {},
   "source": [
    "#### Q6. Read about infix, prefix, and postfix expressions. Write a program to convert postfix to prefix expression."
   ]
  },
  {
   "cell_type": "code",
   "execution_count": 105,
   "id": "64483bd6",
   "metadata": {},
   "outputs": [],
   "source": [
    "def is_operator(x):\n",
    "\n",
    "    if x in [\"+\", \"-\", \"/\", \"*\", \"^\", \"(\", \")\"]:\n",
    "        return True\n",
    "\n",
    "    return False"
   ]
  },
  {
   "cell_type": "code",
   "execution_count": 106,
   "id": "9eb3b8b7",
   "metadata": {},
   "outputs": [
    {
     "name": "stdout",
     "output_type": "stream",
     "text": [
      "Prefix :  *+AB-CD\n"
     ]
    }
   ],
   "source": [
    "def post_to_pre(post_exp):\n",
    "\n",
    "    # length of expression\n",
    "    length = len(post_exp)\n",
    "    \n",
    "    s = Stack(length)\n",
    "\n",
    "    # reading from right to left\n",
    "    for i in range(length):\n",
    "\n",
    "        # check if symbol is operator\n",
    "        if (is_operator(post_exp[i])):\n",
    "\n",
    "            # pop two operands from stack\n",
    "            op1 = s.peek()\n",
    "            s.pop()\n",
    "            op2 = s.peek()\n",
    "            s.pop()\n",
    "\n",
    "            # concat the operands and operator\n",
    "            temp = post_exp[i] + op2 + op1\n",
    "\n",
    "            # Push string temp back to stack\n",
    "            s.push(temp)\n",
    "\n",
    "        # if symbol is an operand\n",
    "        else:\n",
    "\n",
    "            # push the operand to the stack\n",
    "            s.push(post_exp[i])\n",
    "\n",
    "\n",
    "    ans = \"\"\n",
    "    for i in s.get_stack():\n",
    "        ans += i\n",
    "    return ans\n",
    "\n",
    "\n",
    "# Driver Code\n",
    "post_exp = \"AB+CD-*\"\n",
    "\n",
    "# Function call\n",
    "print(\"Prefix : \", post_to_pre(post_exp))\n"
   ]
  },
  {
   "cell_type": "markdown",
   "id": "c4000e35",
   "metadata": {},
   "source": [
    "#### Q7. Write a program to convert prefix expression to infix expression."
   ]
  },
  {
   "cell_type": "code",
   "execution_count": 107,
   "id": "da8ed20b",
   "metadata": {},
   "outputs": [
    {
     "name": "stdout",
     "output_type": "stream",
     "text": [
      "((A-(B/C))*((A/K)-L))\n"
     ]
    }
   ],
   "source": [
    "def prefix_to_infix(prefix):\n",
    "    stack = Stack(len(prefix))\n",
    "    \n",
    "    # read prefix in reverse order\n",
    "    i = len(prefix) - 1\n",
    "    while i >= 0:\n",
    "        if not is_operator(prefix[i]):\n",
    "\n",
    "            # symbol is operand\n",
    "            stack.push(prefix[i])\n",
    "            i -= 1\n",
    "        else:\n",
    "            # symbol is operator\n",
    "            op1 = stack.peek()\n",
    "            stack.pop()\n",
    "            op2 = stack.peek()\n",
    "            stack.pop()\n",
    "            string = \"(\" + op1 + prefix[i] + op2 + \")\"\n",
    "            stack.push(string)\n",
    "            i -= 1\n",
    "\n",
    "    infix = stack.peek()\n",
    "    stack.pop()\n",
    "    return infix\n",
    "\n",
    "# Driver code\n",
    "string = \"*-A/BC-/AKL\"\n",
    "print(prefix_to_infix(string))\n"
   ]
  },
  {
   "cell_type": "markdown",
   "id": "33d1fa83",
   "metadata": {},
   "source": [
    "#### Q8. Write a program to check if all the brackets are closed in a given code snippet."
   ]
  },
  {
   "cell_type": "code",
   "execution_count": 108,
   "id": "bc03d671",
   "metadata": {},
   "outputs": [
    {
     "name": "stdout",
     "output_type": "stream",
     "text": [
      "{[]{()}} - Balanced\n",
      "[{}{})(] - Unbalanced\n",
      "((() - Unbalanced\n"
     ]
    }
   ],
   "source": [
    "# balanced parentheses in an expression\n",
    "open_list = [\"[\",\"{\",\"(\"]\n",
    "close_list = [\"]\",\"}\",\")\"]\n",
    "\n",
    "# Function to check parentheses\n",
    "def check(my_str):\n",
    "    stack = Stack(len(my_str))\n",
    "    for i in my_str:\n",
    "        if i in open_list:\n",
    "            stack.push(i)\n",
    "        elif i in close_list:\n",
    "            pos = close_list.index(i)\n",
    "            if ((len(stack.get_stack()) > 0) and\n",
    "                (open_list[pos] == stack.get_stack()[len(stack.get_stack())-1])):\n",
    "                stack.pop()\n",
    "            else:\n",
    "                return \"Unbalanced\"\n",
    "    if len(stack.get_stack()) == 0:\n",
    "        return \"Balanced\"\n",
    "    else:\n",
    "        return \"Unbalanced\"\n",
    "\n",
    "\n",
    "# Driver code\n",
    "string = \"{[]{()}}\"\n",
    "print(string,\"-\", check(string))\n",
    "\n",
    "string = \"[{}{})(]\"\n",
    "print(string,\"-\", check(string))\n",
    "\n",
    "string = \"((()\"\n",
    "print(string,\"-\",check(string))\n"
   ]
  },
  {
   "cell_type": "markdown",
   "id": "f1ce5669",
   "metadata": {},
   "source": [
    "#### Q9. Write a program to reverse a stack."
   ]
  },
  {
   "cell_type": "code",
   "execution_count": 109,
   "id": "16777a22",
   "metadata": {},
   "outputs": [
    {
     "name": "stdout",
     "output_type": "stream",
     "text": [
      "Enter the length of the Stack: 5\n",
      "Enter integer element: 1\n",
      "Enter integer element: 2\n",
      "Enter integer element: 3\n",
      "Enter integer element: 4\n",
      "Enter integer element: 5\n",
      "Before reversing, Your Stack is:  [1, 2, 3, 4, 5]\n",
      "After reversing, Your Stack is:  [5, 4, 3, 2, 1]\n"
     ]
    }
   ],
   "source": [
    "# Insert_Bottom() insert value at bottom\n",
    "def bottom_insert(s, value):\n",
    "   \n",
    "    # check the stack is empty or not\n",
    "    if s.is_empty():\n",
    "         \n",
    "        # if stack is empty then call\n",
    "        # push() method.\n",
    "        s.push(value)\n",
    "         \n",
    "    # if stack is not empty then execute\n",
    "    # else block\n",
    "    else:\n",
    "        popped = s.peek()\n",
    "        s.pop()\n",
    "        bottom_insert(s, value)\n",
    "        s.push(popped)\n",
    "\n",
    "# Reverse() reverse the stack\n",
    "def reverse(s):\n",
    "    if s.is_empty():\n",
    "        pass\n",
    "    else:\n",
    "        popped = s.peek()\n",
    "        s.pop()\n",
    "        reverse(s)\n",
    "        bottom_insert(s, popped)\n",
    "        \n",
    "length = int(input(\"Enter the length of the Stack: \"))\n",
    "stack = Stack(length)\n",
    "\n",
    "for i in range(length):\n",
    "    stack.push(int(input(\"Enter integer element: \")))\n",
    "\n",
    "print(\"Before reversing, Your Stack is: \", stack.get_stack())\n",
    "\n",
    "reverse(stack)\n",
    "print(\"After reversing, Your Stack is: \", stack.get_stack())"
   ]
  },
  {
   "cell_type": "markdown",
   "id": "a4ae50ce",
   "metadata": {},
   "source": [
    "#### Q10. Write a program to find the smallest number using a stack."
   ]
  },
  {
   "cell_type": "code",
   "execution_count": 110,
   "id": "825ab00c",
   "metadata": {},
   "outputs": [
    {
     "name": "stdout",
     "output_type": "stream",
     "text": [
      "Enter the length of the Stack: 5\n",
      "Enter integer element: 1\n",
      "Enter integer element: 2\n",
      "Enter integer element: 3\n",
      "Enter integer element: 4\n",
      "Enter integer element: 5\n",
      "Your Stack is:  [1, 2, 3, 4, 5]\n",
      "The smallest number is:  1\n"
     ]
    }
   ],
   "source": [
    "length = int(input(\"Enter the length of the Stack: \"))\n",
    "stack = Stack(length)\n",
    "\n",
    "for i in range(length):\n",
    "    stack.push(int(input(\"Enter integer element: \")))\n",
    "\n",
    "print(\"Your Stack is: \", stack.get_stack())\n",
    "\n",
    "smallest_number = 0\n",
    "for i in range (len(stack.get_stack())):\n",
    "    if not smallest_number:\n",
    "        smallest_number = stack.peek()\n",
    "    else:\n",
    "        if smallest_number > stack.peek():\n",
    "            smallest_number = stack.peek()\n",
    "    \n",
    "    stack.pop()\n",
    "        \n",
    "print(\"The smallest number is: \", smallest_number)"
   ]
  },
  {
   "cell_type": "code",
   "execution_count": null,
   "id": "96d4ced6",
   "metadata": {},
   "outputs": [],
   "source": []
  }
 ],
 "metadata": {
  "kernelspec": {
   "display_name": "Python 3 (ipykernel)",
   "language": "python",
   "name": "python3"
  },
  "language_info": {
   "codemirror_mode": {
    "name": "ipython",
    "version": 3
   },
   "file_extension": ".py",
   "mimetype": "text/x-python",
   "name": "python",
   "nbconvert_exporter": "python",
   "pygments_lexer": "ipython3",
   "version": "3.11.4"
  }
 },
 "nbformat": 4,
 "nbformat_minor": 5
}
